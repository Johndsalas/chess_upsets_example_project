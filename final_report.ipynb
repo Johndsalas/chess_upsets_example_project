{
 "cells": [
  {
   "cell_type": "markdown",
   "id": "passive-collect",
   "metadata": {},
   "source": [
    "# Chess Upsets"
   ]
  },
  {
   "cell_type": "markdown",
   "id": "typical-anime",
   "metadata": {},
   "source": [
    "# Goal: \n",
    "* Discover drivers of upsets in chess games played on Lichess.org\n",
    "* Use drivers to develop a machine learning model to classify games as ending in upset or not ending in upset"
   ]
  },
  {
   "cell_type": "markdown",
   "id": "recognized-insertion",
   "metadata": {},
   "source": [
    "# Imports"
   ]
  },
  {
   "cell_type": "code",
   "execution_count": 1,
   "id": "following-steam",
   "metadata": {},
   "outputs": [],
   "source": [
    "import pandas as pd\n",
    "import numpy as np\n",
    "\n",
    "import matplotlib.pyplot as plt\n",
    "import seaborn as sns\n",
    "import os\n",
    "\n",
    "from sklearn.model_selection import train_test_split\n",
    "import sklearn.preprocessing\n",
    "from sklearn.tree import DecisionTreeClassifier\n",
    "from sklearn.ensemble import RandomForestClassifier\n",
    "from sklearn.neighbors import KNeighborsClassifier\n",
    "from sklearn.linear_model import LogisticRegression\n",
    "\n",
    "import warnings\n",
    "warnings.filterwarnings(\"ignore\")\n",
    "\n",
    "from scipy import stats\n",
    "import re\n",
    "\n",
    "import wrangle as w\n",
    "import explore as e\n",
    "import modeling as m"
   ]
  },
  {
   "cell_type": "markdown",
   "id": "further-swimming",
   "metadata": {},
   "source": [
    "# Acquire\n",
    "\n",
    "* Data acquired from [Kaggle](https://www.kaggle.com/datasnaek/chess)\n",
    "* It contained 20,058 rows and 9 columns before cleaning\n",
    "* Each row represents a chess game played on Lichess.org\n",
    "* Each column represents a feature of those games"
   ]
  },
  {
   "cell_type": "markdown",
   "id": "strategic-steering",
   "metadata": {},
   "source": [
    "# Prepare\n",
    "\n",
    "**Prepare Actions:**\n",
    "* Removed columns that did not contain useful information\n",
    "* Renamed columns to promote readability\n",
    "* Checked for nulls in the data (there were none)\n",
    "* Checked that column data types were appropriate\n",
    "* Removed white space from values in object columns\n",
    "* Added Target column 'upset' indicating weather the lower rated player won the game\n",
    "* Added additional features to investigate:\n",
    "    * Rating Difference\n",
    "    * Game Rating\n",
    "    * Lower Rated White\n",
    "    * Time Control Group\n",
    "    * Upset\n",
    "* Encoded categorical variables\n",
    "* Split data into train, validate and test (approx. 60/25/15), stratifying on 'upset'\n",
    "* Scaled continuous variable\n",
    "* Outliers have not been removed for this iteration of the project"
   ]
  },
  {
   "cell_type": "markdown",
   "id": "purple-plymouth",
   "metadata": {},
   "source": [
    "# Data Dictionary\n",
    "\n",
    "| Feature | Definition |\n",
    "|:--------|:-----------|\n",
    "|Rated| True or False, The game's result is reflected in each player's rating|\n",
    "|Winning Pieces| The color of pieces the winning player was moving|\n",
    "|White Rating| Rating of the player moving the white pieces using the Glicko-2 rating method for games played on Lichess|\n",
    "|Black Rating| Rating of the player moving the white pieces using the Glicko-2 rating method for games played on Lichess|\n",
    "|Rating Difference| The difference in rating between the players in the game|\n",
    "|Game Rating| The average rating of the two players in the game|\n",
    "|Lower Rated White| True or False, The lower rated player is moving the white pieces|\n",
    "|Opening Name| The name of the opening played in the game|\n",
    "|Time Control Group| The amount of time allotted to each player to make their moves, **Standard** (60 min or more), **Rapid** (30 - 15 min), **Blitz** (5 - 3 min), or **Bullet** (2 or less), **Other** (any other time limit)|\n",
    "|Upset (Target)| True or False, The lower rated player won the game|\n",
    "|Additional Features|Encoded and values for categorical data and scaled versions continuous data|\n"
   ]
  },
  {
   "cell_type": "code",
   "execution_count": 2,
   "id": "pressing-legislation",
   "metadata": {
    "scrolled": false
   },
   "outputs": [],
   "source": [
    "# acquiring, cleaning, and adding features to data\n",
    "df = w.wrangle_chess_data(reprep = True)\n",
    "\n",
    "# splitting data into train, validate, and test\n",
    "train, validate, test = w.split_my_data(df)\n",
    "\n",
    "# adding scaled columns of rating difference and game rating\n",
    "train, validate, test = w.scale_data(train, validate, test)"
   ]
  },
  {
   "cell_type": "markdown",
   "id": "tutorial-continuity",
   "metadata": {},
   "source": [
    "## A brief look at the data"
   ]
  },
  {
   "cell_type": "code",
   "execution_count": 3,
   "id": "clear-junior",
   "metadata": {},
   "outputs": [
    {
     "data": {
      "text/html": [
       "<div>\n",
       "<style scoped>\n",
       "    .dataframe tbody tr th:only-of-type {\n",
       "        vertical-align: middle;\n",
       "    }\n",
       "\n",
       "    .dataframe tbody tr th {\n",
       "        vertical-align: top;\n",
       "    }\n",
       "\n",
       "    .dataframe thead th {\n",
       "        text-align: right;\n",
       "    }\n",
       "</style>\n",
       "<table border=\"1\" class=\"dataframe\">\n",
       "  <thead>\n",
       "    <tr style=\"text-align: right;\">\n",
       "      <th></th>\n",
       "      <th>time_control_group</th>\n",
       "      <th>rated</th>\n",
       "      <th>winning_pieces</th>\n",
       "      <th>increment_code</th>\n",
       "      <th>white_rating</th>\n",
       "      <th>black_rating</th>\n",
       "      <th>opening_name</th>\n",
       "      <th>upset</th>\n",
       "      <th>rating_difference</th>\n",
       "      <th>game_rating</th>\n",
       "      <th>lower_rated_white</th>\n",
       "      <th>time_control_group_Blitz</th>\n",
       "      <th>time_control_group_Bullet</th>\n",
       "      <th>time_control_group_Other</th>\n",
       "      <th>time_control_group_Rapid</th>\n",
       "      <th>time_control_group_Standard</th>\n",
       "      <th>rating_difference_scaled</th>\n",
       "      <th>game_rating_scaled</th>\n",
       "    </tr>\n",
       "  </thead>\n",
       "  <tbody>\n",
       "    <tr>\n",
       "      <th>0</th>\n",
       "      <td>Other</td>\n",
       "      <td>True</td>\n",
       "      <td>white</td>\n",
       "      <td>10+0</td>\n",
       "      <td>1393</td>\n",
       "      <td>1404</td>\n",
       "      <td>Philidor Defense #2</td>\n",
       "      <td>True</td>\n",
       "      <td>11</td>\n",
       "      <td>1398</td>\n",
       "      <td>True</td>\n",
       "      <td>0</td>\n",
       "      <td>0</td>\n",
       "      <td>1</td>\n",
       "      <td>0</td>\n",
       "      <td>0</td>\n",
       "      <td>0.007373</td>\n",
       "      <td>0.350814</td>\n",
       "    </tr>\n",
       "    <tr>\n",
       "      <th>1</th>\n",
       "      <td>Other</td>\n",
       "      <td>False</td>\n",
       "      <td>black</td>\n",
       "      <td>40+2</td>\n",
       "      <td>1505</td>\n",
       "      <td>1743</td>\n",
       "      <td>Italian Game: Classical Variation #2</td>\n",
       "      <td>False</td>\n",
       "      <td>238</td>\n",
       "      <td>1624</td>\n",
       "      <td>True</td>\n",
       "      <td>0</td>\n",
       "      <td>0</td>\n",
       "      <td>1</td>\n",
       "      <td>0</td>\n",
       "      <td>0</td>\n",
       "      <td>0.159517</td>\n",
       "      <td>0.487040</td>\n",
       "    </tr>\n",
       "    <tr>\n",
       "      <th>2</th>\n",
       "      <td>Other</td>\n",
       "      <td>True</td>\n",
       "      <td>black</td>\n",
       "      <td>10+0</td>\n",
       "      <td>1255</td>\n",
       "      <td>1626</td>\n",
       "      <td>Sicilian Defense: Smith-Morra Gambit #2</td>\n",
       "      <td>False</td>\n",
       "      <td>371</td>\n",
       "      <td>1440</td>\n",
       "      <td>True</td>\n",
       "      <td>0</td>\n",
       "      <td>0</td>\n",
       "      <td>1</td>\n",
       "      <td>0</td>\n",
       "      <td>0</td>\n",
       "      <td>0.248660</td>\n",
       "      <td>0.376130</td>\n",
       "    </tr>\n",
       "    <tr>\n",
       "      <th>3</th>\n",
       "      <td>Blitz</td>\n",
       "      <td>True</td>\n",
       "      <td>black</td>\n",
       "      <td>5+5</td>\n",
       "      <td>1540</td>\n",
       "      <td>1536</td>\n",
       "      <td>Queen's Pawn Game #3</td>\n",
       "      <td>True</td>\n",
       "      <td>4</td>\n",
       "      <td>1538</td>\n",
       "      <td>False</td>\n",
       "      <td>1</td>\n",
       "      <td>0</td>\n",
       "      <td>0</td>\n",
       "      <td>0</td>\n",
       "      <td>0</td>\n",
       "      <td>0.002681</td>\n",
       "      <td>0.435202</td>\n",
       "    </tr>\n",
       "    <tr>\n",
       "      <th>4</th>\n",
       "      <td>Other</td>\n",
       "      <td>True</td>\n",
       "      <td>black</td>\n",
       "      <td>10+0</td>\n",
       "      <td>1545</td>\n",
       "      <td>1890</td>\n",
       "      <td>King's Pawn Game: Mengarini's Opening</td>\n",
       "      <td>False</td>\n",
       "      <td>345</td>\n",
       "      <td>1717</td>\n",
       "      <td>True</td>\n",
       "      <td>0</td>\n",
       "      <td>0</td>\n",
       "      <td>1</td>\n",
       "      <td>0</td>\n",
       "      <td>0</td>\n",
       "      <td>0.231233</td>\n",
       "      <td>0.543098</td>\n",
       "    </tr>\n",
       "  </tbody>\n",
       "</table>\n",
       "</div>"
      ],
      "text/plain": [
       "  time_control_group  rated winning_pieces increment_code  white_rating  \\\n",
       "0              Other   True          white           10+0          1393   \n",
       "1              Other  False          black           40+2          1505   \n",
       "2              Other   True          black           10+0          1255   \n",
       "3              Blitz   True          black            5+5          1540   \n",
       "4              Other   True          black           10+0          1545   \n",
       "\n",
       "   black_rating                             opening_name  upset  \\\n",
       "0          1404                      Philidor Defense #2   True   \n",
       "1          1743     Italian Game: Classical Variation #2  False   \n",
       "2          1626  Sicilian Defense: Smith-Morra Gambit #2  False   \n",
       "3          1536                     Queen's Pawn Game #3   True   \n",
       "4          1890    King's Pawn Game: Mengarini's Opening  False   \n",
       "\n",
       "   rating_difference  game_rating  lower_rated_white  \\\n",
       "0                 11         1398               True   \n",
       "1                238         1624               True   \n",
       "2                371         1440               True   \n",
       "3                  4         1538              False   \n",
       "4                345         1717               True   \n",
       "\n",
       "   time_control_group_Blitz  time_control_group_Bullet  \\\n",
       "0                         0                          0   \n",
       "1                         0                          0   \n",
       "2                         0                          0   \n",
       "3                         1                          0   \n",
       "4                         0                          0   \n",
       "\n",
       "   time_control_group_Other  time_control_group_Rapid  \\\n",
       "0                         1                         0   \n",
       "1                         1                         0   \n",
       "2                         1                         0   \n",
       "3                         0                         0   \n",
       "4                         1                         0   \n",
       "\n",
       "   time_control_group_Standard  rating_difference_scaled  game_rating_scaled  \n",
       "0                            0                  0.007373            0.350814  \n",
       "1                            0                  0.159517            0.487040  \n",
       "2                            0                  0.248660            0.376130  \n",
       "3                            0                  0.002681            0.435202  \n",
       "4                            0                  0.231233            0.543098  "
      ]
     },
     "execution_count": 3,
     "metadata": {},
     "output_type": "execute_result"
    }
   ],
   "source": [
    "train.head()"
   ]
  },
  {
   "cell_type": "markdown",
   "id": "mature-partition",
   "metadata": {},
   "source": [
    "## A summery of the data"
   ]
  },
  {
   "cell_type": "code",
   "execution_count": 23,
   "id": "alien-topic",
   "metadata": {},
   "outputs": [
    {
     "data": {
      "text/html": [
       "<div>\n",
       "<style scoped>\n",
       "    .dataframe tbody tr th:only-of-type {\n",
       "        vertical-align: middle;\n",
       "    }\n",
       "\n",
       "    .dataframe tbody tr th {\n",
       "        vertical-align: top;\n",
       "    }\n",
       "\n",
       "    .dataframe thead th {\n",
       "        text-align: right;\n",
       "    }\n",
       "</style>\n",
       "<table border=\"1\" class=\"dataframe\">\n",
       "  <thead>\n",
       "    <tr style=\"text-align: right;\">\n",
       "      <th></th>\n",
       "      <th>white_rating</th>\n",
       "      <th>black_rating</th>\n",
       "      <th>rating_difference</th>\n",
       "      <th>game_rating</th>\n",
       "      <th>time_control_group_Blitz</th>\n",
       "      <th>time_control_group_Bullet</th>\n",
       "      <th>time_control_group_Other</th>\n",
       "      <th>time_control_group_Rapid</th>\n",
       "      <th>time_control_group_Standard</th>\n",
       "      <th>rating_difference_scaled</th>\n",
       "      <th>game_rating_scaled</th>\n",
       "    </tr>\n",
       "  </thead>\n",
       "  <tbody>\n",
       "    <tr>\n",
       "      <th>count</th>\n",
       "      <td>11232.000000</td>\n",
       "      <td>11232.000000</td>\n",
       "      <td>11232.000000</td>\n",
       "      <td>11232.000000</td>\n",
       "      <td>11232.000000</td>\n",
       "      <td>11232.000000</td>\n",
       "      <td>11232.000000</td>\n",
       "      <td>11232.000000</td>\n",
       "      <td>11232.000000</td>\n",
       "      <td>11232.000000</td>\n",
       "      <td>11232.000000</td>\n",
       "    </tr>\n",
       "    <tr>\n",
       "      <th>mean</th>\n",
       "      <td>1594.913907</td>\n",
       "      <td>1586.570869</td>\n",
       "      <td>172.938657</td>\n",
       "      <td>1590.494747</td>\n",
       "      <td>0.093038</td>\n",
       "      <td>0.007123</td>\n",
       "      <td>0.609598</td>\n",
       "      <td>0.275463</td>\n",
       "      <td>0.014779</td>\n",
       "      <td>0.115911</td>\n",
       "      <td>0.466844</td>\n",
       "    </tr>\n",
       "    <tr>\n",
       "      <th>std</th>\n",
       "      <td>289.825479</td>\n",
       "      <td>290.330461</td>\n",
       "      <td>178.637868</td>\n",
       "      <td>262.121537</td>\n",
       "      <td>0.290498</td>\n",
       "      <td>0.084098</td>\n",
       "      <td>0.487862</td>\n",
       "      <td>0.446767</td>\n",
       "      <td>0.120673</td>\n",
       "      <td>0.119730</td>\n",
       "      <td>0.158000</td>\n",
       "    </tr>\n",
       "    <tr>\n",
       "      <th>min</th>\n",
       "      <td>784.000000</td>\n",
       "      <td>789.000000</td>\n",
       "      <td>0.000000</td>\n",
       "      <td>816.000000</td>\n",
       "      <td>0.000000</td>\n",
       "      <td>0.000000</td>\n",
       "      <td>0.000000</td>\n",
       "      <td>0.000000</td>\n",
       "      <td>0.000000</td>\n",
       "      <td>0.000000</td>\n",
       "      <td>0.000000</td>\n",
       "    </tr>\n",
       "    <tr>\n",
       "      <th>25%</th>\n",
       "      <td>1398.000000</td>\n",
       "      <td>1388.000000</td>\n",
       "      <td>45.000000</td>\n",
       "      <td>1405.000000</td>\n",
       "      <td>0.000000</td>\n",
       "      <td>0.000000</td>\n",
       "      <td>0.000000</td>\n",
       "      <td>0.000000</td>\n",
       "      <td>0.000000</td>\n",
       "      <td>0.030161</td>\n",
       "      <td>0.355033</td>\n",
       "    </tr>\n",
       "    <tr>\n",
       "      <th>50%</th>\n",
       "      <td>1564.000000</td>\n",
       "      <td>1559.000000</td>\n",
       "      <td>115.000000</td>\n",
       "      <td>1567.000000</td>\n",
       "      <td>0.000000</td>\n",
       "      <td>0.000000</td>\n",
       "      <td>1.000000</td>\n",
       "      <td>0.000000</td>\n",
       "      <td>0.000000</td>\n",
       "      <td>0.077078</td>\n",
       "      <td>0.452682</td>\n",
       "    </tr>\n",
       "    <tr>\n",
       "      <th>75%</th>\n",
       "      <td>1788.000000</td>\n",
       "      <td>1783.250000</td>\n",
       "      <td>241.000000</td>\n",
       "      <td>1769.000000</td>\n",
       "      <td>0.000000</td>\n",
       "      <td>0.000000</td>\n",
       "      <td>1.000000</td>\n",
       "      <td>1.000000</td>\n",
       "      <td>0.000000</td>\n",
       "      <td>0.161528</td>\n",
       "      <td>0.574442</td>\n",
       "    </tr>\n",
       "    <tr>\n",
       "      <th>max</th>\n",
       "      <td>2700.000000</td>\n",
       "      <td>2621.000000</td>\n",
       "      <td>1492.000000</td>\n",
       "      <td>2475.000000</td>\n",
       "      <td>1.000000</td>\n",
       "      <td>1.000000</td>\n",
       "      <td>1.000000</td>\n",
       "      <td>1.000000</td>\n",
       "      <td>1.000000</td>\n",
       "      <td>1.000000</td>\n",
       "      <td>1.000000</td>\n",
       "    </tr>\n",
       "  </tbody>\n",
       "</table>\n",
       "</div>"
      ],
      "text/plain": [
       "       white_rating  black_rating  rating_difference   game_rating  \\\n",
       "count  11232.000000  11232.000000       11232.000000  11232.000000   \n",
       "mean    1594.913907   1586.570869         172.938657   1590.494747   \n",
       "std      289.825479    290.330461         178.637868    262.121537   \n",
       "min      784.000000    789.000000           0.000000    816.000000   \n",
       "25%     1398.000000   1388.000000          45.000000   1405.000000   \n",
       "50%     1564.000000   1559.000000         115.000000   1567.000000   \n",
       "75%     1788.000000   1783.250000         241.000000   1769.000000   \n",
       "max     2700.000000   2621.000000        1492.000000   2475.000000   \n",
       "\n",
       "       time_control_group_Blitz  time_control_group_Bullet  \\\n",
       "count              11232.000000               11232.000000   \n",
       "mean                   0.093038                   0.007123   \n",
       "std                    0.290498                   0.084098   \n",
       "min                    0.000000                   0.000000   \n",
       "25%                    0.000000                   0.000000   \n",
       "50%                    0.000000                   0.000000   \n",
       "75%                    0.000000                   0.000000   \n",
       "max                    1.000000                   1.000000   \n",
       "\n",
       "       time_control_group_Other  time_control_group_Rapid  \\\n",
       "count              11232.000000              11232.000000   \n",
       "mean                   0.609598                  0.275463   \n",
       "std                    0.487862                  0.446767   \n",
       "min                    0.000000                  0.000000   \n",
       "25%                    0.000000                  0.000000   \n",
       "50%                    1.000000                  0.000000   \n",
       "75%                    1.000000                  1.000000   \n",
       "max                    1.000000                  1.000000   \n",
       "\n",
       "       time_control_group_Standard  rating_difference_scaled  \\\n",
       "count                 11232.000000              11232.000000   \n",
       "mean                      0.014779                  0.115911   \n",
       "std                       0.120673                  0.119730   \n",
       "min                       0.000000                  0.000000   \n",
       "25%                       0.000000                  0.030161   \n",
       "50%                       0.000000                  0.077078   \n",
       "75%                       0.000000                  0.161528   \n",
       "max                       1.000000                  1.000000   \n",
       "\n",
       "       game_rating_scaled  \n",
       "count        11232.000000  \n",
       "mean             0.466844  \n",
       "std              0.158000  \n",
       "min              0.000000  \n",
       "25%              0.355033  \n",
       "50%              0.452682  \n",
       "75%              0.574442  \n",
       "max              1.000000  "
      ]
     },
     "execution_count": 23,
     "metadata": {},
     "output_type": "execute_result"
    }
   ],
   "source": [
    "train.describe()"
   ]
  },
  {
   "cell_type": "markdown",
   "id": "local-paper",
   "metadata": {},
   "source": [
    "# Explore"
   ]
  },
  {
   "cell_type": "markdown",
   "id": "considerable-attendance",
   "metadata": {},
   "source": [
    "## How often do upsets occur?"
   ]
  },
  {
   "cell_type": "code",
   "execution_count": 5,
   "id": "danish-fusion",
   "metadata": {},
   "outputs": [
    {
     "data": {
      "image/png": "[encoded data removed]",
      "text/plain": [
       "<Figure size 432x288 with 1 Axes>"
      ]
     },
     "metadata": {},
     "output_type": "display_data"
    }
   ],
   "source": [
    "# get pie chart upsets\n",
    "e.get_pie_upsets(train)"
   ]
  },
  {
   "cell_type": "markdown",
   "id": "continued-committee",
   "metadata": {},
   "source": [
    "* About 1/3 of the games in the training data will end in upset"
   ]
  },
  {
   "cell_type": "markdown",
   "id": "wound-gothic",
   "metadata": {},
   "source": [
    "## Dose first move advantage effect upsets?"
   ]
  },
  {
   "cell_type": "code",
   "execution_count": 6,
   "id": "cordless-environment",
   "metadata": {
    "scrolled": false
   },
   "outputs": [
    {
     "data": {
      "image/png": "[encoded data removed]",
      "text/plain": [
       "<Figure size 432x288 with 2 Axes>"
      ]
     },
     "metadata": {},
     "output_type": "display_data"
    }
   ],
   "source": [
    "# get pie chart lower rated white\n",
    "e.get_pies_white(train)"
   ]
  },
  {
   "cell_type": "markdown",
   "id": "geographic-nursing",
   "metadata": {},
   "source": [
    "* Upset percentage is 4% higher in games where the lower rated player makes the first move."
   ]
  },
  {
   "cell_type": "markdown",
   "id": "modern-wilderness",
   "metadata": {},
   "source": [
    "**I will now use a chi-square test to investigate whether 'Upset' and \"Lower Rated White\" are related** \n",
    "* Traditionally the player moving the white pieces moves first\n",
    "* I will use a confidence interval of 95% \n",
    "* The resulting alpha is .05<br>\n",
    "\n",
    "**Ho: \"Upset\" and \"Lower Rated White\" are independent of one another.**<br>\n",
    "**Ha: \"Upset\" and \"Lower Rated White\" are related.**"
   ]
  },
  {
   "cell_type": "code",
   "execution_count": 7,
   "id": "presidential-guarantee",
   "metadata": {},
   "outputs": [
    {
     "name": "stdout",
     "output_type": "stream",
     "text": [
      "chi^2 = 24.9953\n",
      "p     = 0.0000\n"
     ]
    }
   ],
   "source": [
    "# get chi-square test\n",
    "e.get_chi_white(train)"
   ]
  },
  {
   "cell_type": "markdown",
   "id": "cognitive-brook",
   "metadata": {},
   "source": [
    "**The p-value is greater than the alpha. Therefore, we have evidence to support that \"Upset\" and \"Lower Rated White\" are related. Based on this, and the 4% difference in upsets, observed in the train data, I believe that using the \"Lower Rated White\" feature in modeling will likely have a small positive impact on the model's accuracy.**"
   ]
  },
  {
   "cell_type": "markdown",
   "id": "environmental-longitude",
   "metadata": {},
   "source": [
    "## Does a game being rated effect upsets?"
   ]
  },
  {
   "cell_type": "code",
   "execution_count": 8,
   "id": "informed-encyclopedia",
   "metadata": {
    "scrolled": false
   },
   "outputs": [
    {
     "data": {
      "image/png": "[encoded data removed]",
      "text/plain": [
       "<Figure size 720x720 with 2 Axes>"
      ]
     },
     "metadata": {},
     "output_type": "display_data"
    }
   ],
   "source": [
    "# get pie charts\n",
    "e.get_pie_rated(train)"
   ]
  },
  {
   "cell_type": "markdown",
   "id": "going-bulgaria",
   "metadata": {},
   "source": [
    "* Upset percentage is 3% higher in games that are rated"
   ]
  },
  {
   "cell_type": "markdown",
   "id": "third-presence",
   "metadata": {},
   "source": [
    "**I will now use a chi-square test to investigate weather \"Upset\" and \"Rated\" are related.**\n",
    "* I will use a confidence interval of 95% \n",
    "* The resulting alpha is .05<br>\n",
    "\n",
    "**Ho: \"Rated\" and \"Upset\" are independent of one another.** <br>\n",
    "**Ha: \"Rated\" and \"Upset\" are related.**"
   ]
  },
  {
   "cell_type": "code",
   "execution_count": 9,
   "id": "dangerous-groove",
   "metadata": {},
   "outputs": [
    {
     "name": "stdout",
     "output_type": "stream",
     "text": [
      "chi^2 = 11.7329\n",
      "p     = 0.0006\n"
     ]
    }
   ],
   "source": [
    "# get chi-square results\n",
    "e.get_chi_rated(train)"
   ]
  },
  {
   "cell_type": "markdown",
   "id": "fuzzy-tsunami",
   "metadata": {},
   "source": [
    "**The p-value is less than the alpha. Therefore, we have evidence to support that \"Upset\" and \"Rated\" are related. Based on this and the 3% difference in upsets, observed in the train data, I believe that using the \"Rated\" feature in modeling will likely have a small positive impact on the model's accuracy.**"
   ]
  },
  {
   "cell_type": "markdown",
   "id": "agreed-finance",
   "metadata": {},
   "source": [
    "## Does player rating have an effect on upsets?\n"
   ]
  },
  {
   "cell_type": "markdown",
   "id": "persistent-preference",
   "metadata": {},
   "source": [
    "### 1) Does game rating (The average rating of both players in a game) have an effect on upsets? "
   ]
  },
  {
   "cell_type": "code",
   "execution_count": 10,
   "id": "limiting-ozone",
   "metadata": {},
   "outputs": [
    {
     "data": {
      "image/png": "[encoded data removed]",
      "text/plain": [
       "<Figure size 432x288 with 1 Axes>"
      ]
     },
     "metadata": {
      "needs_background": "light"
     },
     "output_type": "display_data"
    }
   ],
   "source": [
    "# get bar chart\n",
    "e.get_game_rating(train)"
   ]
  },
  {
   "cell_type": "markdown",
   "id": "hispanic-publicity",
   "metadata": {},
   "source": [
    "* The average game rating for upsets is very similer to the average game rating for non-upsets"
   ]
  },
  {
   "cell_type": "markdown",
   "id": "separated-blues",
   "metadata": {},
   "source": [
    "**Because the average game rating for games that end in upsets is very similar to the average game rating of games that do not end in upsets, it is not likely that \"Game Rating\" will be a useful feature to model on.**"
   ]
  },
  {
   "cell_type": "markdown",
   "id": "passing-noise",
   "metadata": {},
   "source": [
    "### 2) Does the difference in player rating have an effect on upsets?"
   ]
  },
  {
   "cell_type": "code",
   "execution_count": 11,
   "id": "involved-kruger",
   "metadata": {},
   "outputs": [
    {
     "data": {
      "image/png": "[encoded data removed]",
      "text/plain": [
       "<Figure size 432x288 with 1 Axes>"
      ]
     },
     "metadata": {
      "needs_background": "light"
     },
     "output_type": "display_data"
    }
   ],
   "source": [
    "# get bar chart\n",
    "e.ave_diff_rating(train)"
   ]
  },
  {
   "cell_type": "markdown",
   "id": "assumed-oasis",
   "metadata": {},
   "source": [
    "* The average difference in player rating is 82 points lower in games ending in upset."
   ]
  },
  {
   "cell_type": "markdown",
   "id": "incomplete-sentence",
   "metadata": {},
   "source": [
    "**I will now do a T-test to test for a significant difference between the mean difference in player rating of games ending in upset and the mean difference in player rating of games ending in non-upset.**\n",
    "\n",
    "* I will use a confidence interval of 95%\n",
    "* The resulting alpha is .05\n",
    "\n",
    "**HO: The mean difference in player rating of games ending in upset is not significantly different from the mean difference in player rating of games not ending in an upset.** <br>\n",
    "**HA: The mean difference in player rating of games ending in upset is significantly different from the mean difference in player rating of games not ending in an upset.**"
   ]
  },
  {
   "cell_type": "code",
   "execution_count": 12,
   "id": "national-computer",
   "metadata": {},
   "outputs": [
    {
     "name": "stdout",
     "output_type": "stream",
     "text": [
      "t = -23.2930\n",
      "p = 0.0000\n"
     ]
    }
   ],
   "source": [
    "# get T-test resul\n",
    "e.get_t_rating_diff(train)"
   ]
  },
  {
   "cell_type": "markdown",
   "id": "nervous-hammer",
   "metadata": {},
   "source": [
    "**The p-value is less than the alpha. Therefore, we have evidence to support that the mean rating difference of players in games ending in upset is significantly different from the mean rating difference of players in games that end in non-upsets. Based on this, and the 82 point difference in means, observed in the train data, I believe that using \"Rating Difference\" during modeling will provide a moderate improvement in the model's accuracy.** "
   ]
  },
  {
   "cell_type": "markdown",
   "id": "sunset-catch",
   "metadata": {},
   "source": [
    "## Does time block effect upsets?"
   ]
  },
  {
   "cell_type": "code",
   "execution_count": 13,
   "id": "outside-attraction",
   "metadata": {
    "scrolled": false
   },
   "outputs": [
    {
     "data": {
      "image/png": "[encoded data removed]",
      "text/plain": [
       "<Figure size 720x576 with 4 Axes>"
      ]
     },
     "metadata": {},
     "output_type": "display_data"
    }
   ],
   "source": [
    "# Get pie charts\n",
    "e.get_pie_time(train)"
   ]
  },
  {
   "cell_type": "markdown",
   "id": "experimental-arabic",
   "metadata": {},
   "source": [
    "* In shorter time control groups where time is very limited, such as Bullet, Blitz, and Rapid games upset percentage ranges from 30 to 34%.\n",
    "* In Standard, where time is more plentiful, upsets drop to 22%. "
   ]
  },
  {
   "cell_type": "markdown",
   "id": "decreased-playback",
   "metadata": {},
   "source": [
    "**I will now perform a chi-square test to determine if \"Upset\" and \"Time control Group\" are independant.**\n",
    "* I will use a confidence interval of 95%\n",
    "* The resulting alpha is .05\n",
    "\n",
    "**Ho: \"Upset\" and \"Time Control Group\" are independent of one another.** <br>\n",
    "**Ha: \"Upset\" and \"Time Control Group\" are related.**"
   ]
  },
  {
   "cell_type": "code",
   "execution_count": 14,
   "id": "executive-sunglasses",
   "metadata": {},
   "outputs": [
    {
     "name": "stdout",
     "output_type": "stream",
     "text": [
      "chi^2 = 11.5701\n",
      "p     = 0.0209\n"
     ]
    }
   ],
   "source": [
    "# get chi-square test\n",
    "e.get_chi_time(train)"
   ]
  },
  {
   "cell_type": "markdown",
   "id": "minus-being",
   "metadata": {},
   "source": [
    "**The p-value is less than the alpha. Therefore, we have evidence to support that \"Time Control Group'' and \"Upset\" are related. Based on this, and the differences in upset percentages among the different time groups, I believe that having a standard time control is a driver of upsets. Adding an encoded version of this feature to the model will likely have a moderate positive effect on the model's accuracy.**"
   ]
  },
  {
   "cell_type": "markdown",
   "id": "southwest-cinema",
   "metadata": {},
   "source": [
    "# Does opening effect upsets?"
   ]
  },
  {
   "cell_type": "markdown",
   "id": "ranking-bahrain",
   "metadata": {},
   "source": [
    "* There are 1236 unique openings identified in the training data\n",
    "* This is too many for a thorough examination of each\n",
    "* I will examine the top ten, by popularity"
   ]
  },
  {
   "cell_type": "code",
   "execution_count": 15,
   "id": "incident-reducing",
   "metadata": {
    "scrolled": false
   },
   "outputs": [
    {
     "data": {
      "image/png": "[encoded data removed]",
      "text/plain": [
       "<Figure size 1440x720 with 10 Axes>"
      ]
     },
     "metadata": {},
     "output_type": "display_data"
    }
   ],
   "source": [
    "# get upset distributions of top ten most populer openings\n",
    "e.get_pie_open(train)"
   ]
  },
  {
   "cell_type": "markdown",
   "id": "unknown-competition",
   "metadata": {},
   "source": [
    "* Percentage of upsets range from 20 - 37 among top openings"
   ]
  },
  {
   "cell_type": "markdown",
   "id": "confused-tradition",
   "metadata": {},
   "source": [
    "**I will now run a chi-square test to see if \"Opening Name\" and \"Upset\" are dependent on one another.**\n",
    "* I will use a confidence interval of 95%\n",
    "* The resulting alpha is .05\n",
    "\n",
    "**Ho: \"Opening Name\" and \"Upset\" are independent of one another.** <br>\n",
    "**Ha: \"Opening Name\" and \"Upset\" are dependent on one another.**"
   ]
  },
  {
   "cell_type": "code",
   "execution_count": 16,
   "id": "political-treat",
   "metadata": {},
   "outputs": [
    {
     "name": "stdout",
     "output_type": "stream",
     "text": [
      "chi^2 = 1350.4134\n",
      "p     = 0.0117\n"
     ]
    }
   ],
   "source": [
    "# get chi-square results\n",
    "e.get_chi_open(train)"
   ]
  },
  {
   "cell_type": "markdown",
   "id": "damaged-edinburgh",
   "metadata": {},
   "source": [
    "**The p-value is less than the Alpha. Therefore, we have evidence to support that \"Opening Name\" and \"Upset\" are related. However, there are over 1236 unique openings in “Opening Names.” Adding that number of encoded columns to the model would likely do more harm than good.**"
   ]
  },
  {
   "cell_type": "markdown",
   "id": "still-industry",
   "metadata": {},
   "source": [
    "# Exploration Summary\n",
    "\n",
    "* \"Lower Rated White\" and \"Rated\" were each found to be drivers of \"Upset\"\n",
    "    * Though the amount of influence each has is likely to be weak\n",
    "* \"Rating Difference\" was found to be a driver of \"Upset\"\n",
    "* \"Time Control Group\" was found to be a driver of \"Upsets\" \n",
    "    * Being in the standard time control or not seemed to have a particularly strong influence.\n",
    "* \"Opening Name\" was found to be a driver of \"Upsets\" \n",
    "    * Upset percentage ranged from 20-37%\n",
    "    * encoding all of these features would result in more noise than signal to the model\n",
    "    * It may be possible to create groups of similar openings in order to make a more reasonable number features\n",
    "\n",
    "<br>\n",
    "* \"Game Rating\" was not found to be a driver of upsets\n",
    "<br>\n",
    "\n",
    "# Features I am moving to modeling With\n",
    "* \"Lower Rated White\" (small difference in upset percentage, but relationship to upsets is statistically significant)\n",
    "* \"Rated\" (small difference in upset percentage, but relationship to upsets is statistically significant)\n",
    "* \"Time Control standard\" (moderate difference in upset percentage, and dependance is statistically significant)\n",
    "* \"Rating Difference\" (Large difference in rating observed, and difference is significant)\n",
    "\n",
    "# Features I'm not moving to modeling with\n",
    "* \"Opening\" (Although found to be a driver of \"upset\" the encoding process would result in more noise than signal at this time)\n",
    "* \"Game Rating\" (There is no evidence that \"Game Rating\" is a driver of upsets)"
   ]
  },
  {
   "cell_type": "markdown",
   "id": "sonic-halifax",
   "metadata": {},
   "source": [
    "# Modeling\n",
    "* I will use accuracy as my evaluation metric  \n",
    "* non-upsets makeup 67% of the data \n",
    " <br>\n",
    "* by guessing non-upset for every game one could achieve an accuracy of 67%\n",
    "* 67% will be the baseline accuracy I use for this project\n",
    " <br>\n",
    "* I will be evaluating models developed using four different model types and various hyperparameter configurations \n",
    "* Models will be evaluated on train and validate data\n",
    "* The model that performs the best will then be evaluated on test data "
   ]
  },
  {
   "cell_type": "code",
   "execution_count": 17,
   "id": "varied-grant",
   "metadata": {},
   "outputs": [],
   "source": [
    "# prep data for modeling\n",
    "train_X, validate_X, test_X, train_y, validate_y, test_y = m.model_prep(train,validate,test)"
   ]
  },
  {
   "cell_type": "markdown",
   "id": "median-ceramic",
   "metadata": {},
   "source": [
    "## Decision Tree"
   ]
  },
  {
   "cell_type": "code",
   "execution_count": 18,
   "id": "sacred-bracelet",
   "metadata": {},
   "outputs": [
    {
     "name": "stdout",
     "output_type": "stream",
     "text": [
      "Accuracy of Decision Tree on train data is 0.6728988603988604\n",
      "Accuracy of Decision Tree on validate data is 0.6722060656418779\n"
     ]
    }
   ],
   "source": [
    "# get decision tree results\n",
    "m.get_tree(train_X, validate_X, train_y, validate_y)"
   ]
  },
  {
   "cell_type": "markdown",
   "id": "completed-pottery",
   "metadata": {},
   "source": [
    "* Decision Tree accuracy is about equal to the baseline"
   ]
  },
  {
   "cell_type": "markdown",
   "id": "ultimate-strength",
   "metadata": {},
   "source": [
    "## Random Forest"
   ]
  },
  {
   "cell_type": "code",
   "execution_count": 19,
   "id": "ancient-paste",
   "metadata": {},
   "outputs": [
    {
     "name": "stdout",
     "output_type": "stream",
     "text": [
      "Accuracy of Random Forest on train is 0.6726317663817664\n",
      "Accuracy of Random Forest on validate is 0.6726215205650187\n"
     ]
    }
   ],
   "source": [
    "# get random forest results\n",
    "m.get_forest(train_X, validate_X, train_y, validate_y)"
   ]
  },
  {
   "cell_type": "markdown",
   "id": "plastic-oxygen",
   "metadata": {},
   "source": [
    "* Random Forest accuracy is about equal to the baseline"
   ]
  },
  {
   "cell_type": "markdown",
   "id": "persistent-algorithm",
   "metadata": {},
   "source": [
    "## Logistic Regression"
   ]
  },
  {
   "cell_type": "code",
   "execution_count": 20,
   "id": "suspected-variety",
   "metadata": {},
   "outputs": [
    {
     "name": "stdout",
     "output_type": "stream",
     "text": [
      "Accuracy of Logistic Regression on train is 0.6726317663817664\n",
      "Accuracy of Logistic Regression on validate is 0.6726215205650187\n"
     ]
    }
   ],
   "source": [
    "# get logistic regression results\n",
    "m.get_reg(train_X, validate_X, train_y, validate_y)"
   ]
  },
  {
   "cell_type": "markdown",
   "id": "blank-station",
   "metadata": {},
   "source": [
    "* Logistic regression accuracy is about equal to the baseline\n"
   ]
  },
  {
   "cell_type": "markdown",
   "id": "balanced-india",
   "metadata": {},
   "source": [
    "## KNN"
   ]
  },
  {
   "cell_type": "code",
   "execution_count": 21,
   "id": "corporate-hanging",
   "metadata": {},
   "outputs": [
    {
     "name": "stdout",
     "output_type": "stream",
     "text": [
      "Accuracy of Logistic Regression on train is 0.6823361823361823\n",
      "Accuracy of Logistic Regression on validate is 0.6333610303282093\n"
     ]
    }
   ],
   "source": [
    "# get knn results\n",
    "m.get_knn(train_X, validate_X, train_y, validate_y)"
   ]
  },
  {
   "cell_type": "markdown",
   "id": "harmful-jewel",
   "metadata": {},
   "source": [
    "* Logistic regression accuracy is better than baseline on train, and worse than baseline on validate\n",
    "* It is likely over-fit"
   ]
  },
  {
   "cell_type": "markdown",
   "id": "ruled-denmark",
   "metadata": {},
   "source": [
    "# Comparing Models\n",
    "\n",
    "* Decision Tree, Random Forest, and Logistic Regression models all performed about equal to baseline on train and validate\n",
    "* The KNN model performed slightly better on train data but was worse on validate data. It is likely overfit.\n",
    "* Because the results of the Decision Tree, Random Forest, and Logistic Regression models were all very similar I could proceed to test with any of these models.\n",
    "* I have chosen to move forward with the Logistic Regression model"
   ]
  },
  {
   "cell_type": "markdown",
   "id": "vocal-screen",
   "metadata": {},
   "source": [
    "## Logistic Regression on Test"
   ]
  },
  {
   "cell_type": "code",
   "execution_count": 22,
   "id": "parliamentary-genetics",
   "metadata": {},
   "outputs": [
    {
     "name": "stdout",
     "output_type": "stream",
     "text": [
      "Accuracy of Logistic Regression on test is 0.6727318045862413\n"
     ]
    }
   ],
   "source": [
    "# get test results for final model\n",
    "m.get_reg_test(train_X, test_X, train_y, test_y)"
   ]
  },
  {
   "cell_type": "markdown",
   "id": "ideal-wallace",
   "metadata": {},
   "source": [
    "### Modeling Summary\n",
    "\n",
    "* Decision Tree, Random Forest, and Logistic Regression models all performed about equal to baseline on train and validate\n",
    "* The KNN model performed slightly better on train data but was worse on validate data. It is likely overfit.\n",
    "* A Logistic Regression model selected as the final model and had an accuracy of about 67% which is about equal to the baseline accuracy"
   ]
  },
  {
   "cell_type": "markdown",
   "id": "random-initial",
   "metadata": {},
   "source": [
    "# Conclusions\n",
    "\n",
    "### Exploration\n",
    "\n",
    "* Upsets in chess occur in about 1/3 of games\n",
    "* Games in which the lower rated player makes the first move, and games that are rated have a slightly higher chance of ending in an upset \n",
    "* Games ending in upset have a much lower mean difference in player rating than games not ending in upset\n",
    "* Games using shorter time control, such as Bullet, Blitz, and Rapid games, have an upset percentage that closely mirrors the overall upset percentage ranging from 30-34% while standard games have a much lower upset percentage at 22%\n",
    "* Looking at the top 10 openings in terms of frequency in the data set we can conclude that a given opening does affect the likelihood of a game ending in an upset. Upset percentages very by opening from 20-39%\n",
    "* The average rating of players in a game has no provable effect on the chance of that game ending in upset"
   ]
  },
  {
   "cell_type": "markdown",
   "id": "romantic-oriental",
   "metadata": {},
   "source": [
    "### Modeling\n",
    "\n",
    "**The final model failed to significantly outperform the baseline. Possible reasons include:**\n",
    "* “Rated” and “lower rated white” each only accounted for a small difference in the percentage of upsets\n",
    "* While “Opening Name” seemed to be a significant driver of upsets. It contains 1200+ values that, once encoded, would add an overwhelming number of features to the model. \n",
    "\n",
    "### Recommendations\n",
    "\n",
    "* To increase the skill intensity of a game add to the length of time players are able to consider their moves\n",
    "\n",
    "### Next Steps\n",
    "* Cluster together opening variants in \"Opening Name\" to reduce the number of features input into the model\n",
    "* Look for other ways to describe \"Opening Name\" Such as by popularity of the opening or average rating of players playing that opening"
   ]
  }
 ],
 "metadata": {
  "kernelspec": {
   "display_name": "Python 3",
   "language": "python",
   "name": "python3"
  },
  "language_info": {
   "codemirror_mode": {
    "name": "ipython",
    "version": 3
   },
   "file_extension": ".py",
   "mimetype": "text/x-python",
   "name": "python",
   "nbconvert_exporter": "python",
   "pygments_lexer": "ipython3",
   "version": "3.7.4"
  }
 },
 "nbformat": 4,
 "nbformat_minor": 5
}
